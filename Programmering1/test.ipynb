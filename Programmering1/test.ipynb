{
 "metadata": {
  "language_info": {
   "codemirror_mode": {
    "name": "ipython",
    "version": 3
   },
   "file_extension": ".py",
   "mimetype": "text/x-python",
   "name": "python",
   "nbconvert_exporter": "python",
   "pygments_lexer": "ipython3",
   "version": "3.8.3-final"
  },
  "orig_nbformat": 2,
  "kernelspec": {
   "name": "python3",
   "display_name": "Python 3.8.3 64-bit (conda)",
   "metadata": {
    "interpreter": {
     "hash": "8a3d488cac65b56a3edc1258887eb65598ac25f856c1a45e26dcf824e9c3ee23"
    }
   }
  }
 },
 "nbformat": 4,
 "nbformat_minor": 2,
 "cells": [
  {
   "cell_type": "code",
   "execution_count": 2,
   "metadata": {},
   "outputs": [
    {
     "output_type": "stream",
     "name": "stdout",
     "text": [
      "1\n3\n5\n7\n9\nProdukten blir 945\n"
     ]
    }
   ],
   "source": [
    "#Uppgift m04u01\n",
    "\n",
    "summa = 1\n",
    "for i in range (1,11,2):\n",
    "    print(i)\n",
    "    summa *= i\n",
    "print(f\"Produkten blir {summa}\")"
   ]
  },
  {
   "cell_type": "code",
   "execution_count": 8,
   "metadata": {},
   "outputs": [
    {
     "output_type": "stream",
     "name": "stdout",
     "text": [
      "15579.67416600765\n"
     ]
    }
   ],
   "source": [
    "#Uppgift m04u02\n",
    "\n",
    "insatt = 10000\n",
    "ranta = 1.03\n",
    "\n",
    "for i in range (15):\n",
    "    insatt = insatt*ranta\n",
    "print (insatt)\n",
    "    \n",
    "    \n",
    "\n"
   ]
  },
  {
   "cell_type": "code",
   "execution_count": 2,
   "metadata": {},
   "outputs": [
    {
     "output_type": "stream",
     "name": "stdout",
     "text": [
      "1\t2\t3\t4\t5\t6\t7\t8\t9\t10\t\n2\t4\t6\t8\t10\t12\t14\t16\t18\t20\t\n3\t6\t9\t12\t15\t18\t21\t24\t27\t30\t\n4\t8\t12\t16\t20\t24\t28\t32\t36\t40\t\n5\t10\t15\t20\t25\t30\t35\t40\t45\t50\t\n6\t12\t18\t24\t30\t36\t42\t48\t54\t60\t\n7\t14\t21\t28\t35\t42\t49\t56\t63\t70\t\n8\t16\t24\t32\t40\t48\t56\t64\t72\t80\t\n9\t18\t27\t36\t45\t54\t63\t72\t81\t90\t\n10\t20\t30\t40\t50\t60\t70\t80\t90\t100\t\n"
     ]
    }
   ],
   "source": [
    "#Uppgift m04u03\n",
    "\n",
    "for rad in range (1,11):\n",
    "    for colum in range (1,11):\n",
    "        print (rad*colum, end=\"\\t\")\n",
    "    print()\n",
    "\n",
    "\n",
    "    "
   ]
  },
  {
   "cell_type": "code",
   "execution_count": 6,
   "metadata": {},
   "outputs": [
    {
     "output_type": "stream",
     "name": "stdout",
     "text": [
      "1\t2\t3\t4\t5\t6\t\n2\t4\t6\t8\t10\t12\t\n3\t6\t9\t12\t15\t18\t\n4\t8\t12\t16\t20\t24\t\n5\t10\t15\t20\t25\t30\t\n6\t12\t18\t24\t30\t36\t\n7\t14\t21\t28\t35\t42\t\n8\t16\t24\t32\t40\t48\t\n9\t18\t27\t36\t45\t54\t\n10\t20\t30\t40\t50\t60\t\n11\t22\t33\t44\t55\t66\t\n12\t24\t36\t48\t60\t72\t\n"
     ]
    }
   ],
   "source": [
    "#Uppgift m04u03 (utbyggnad)\n",
    "\n",
    "tal = int(input(\"Ange ett heltal\"))\n",
    "tal1 = int(input(\"Ange ett heltal\"))\n",
    "\n",
    "\n",
    "if tal <= 15 and tal>=0:\n",
    "    for rad in range (1, tal+1):\n",
    "        for colum in range (1, tal1+1):\n",
    "            print (rad*colum, end=\"\\t\")\n",
    "        print()\n",
    "\n"
   ]
  },
  {
   "source": [
    "# While-loop\n"
   ],
   "cell_type": "markdown",
   "metadata": {}
  },
  {
   "cell_type": "code",
   "execution_count": 10,
   "metadata": {},
   "outputs": [
    {
     "output_type": "stream",
     "name": "stdout",
     "text": [
      "10\n9\n8\n7\n6\n5\n4\n3\n2\n1\n"
     ]
    }
   ],
   "source": [
    "# Uppgift m04u04\n",
    "\n",
    "start = 11 \n",
    "\n",
    "while start > 1:\n",
    "    start-=1\n",
    "    print(start)\n"
   ]
  },
  {
   "cell_type": "code",
   "execution_count": 11,
   "metadata": {},
   "outputs": [
    {
     "output_type": "stream",
     "name": "stdout",
     "text": [
      "Det dröjer 14\n"
     ]
    }
   ],
   "source": [
    "# Uppgift m04m05\n",
    "\n",
    "start = 100\n",
    "månader = 0\n",
    "\n",
    "while start < 1000000:\n",
    "    start = start*2\n",
    "    månader += 1\n",
    "\n",
    "print(f\"Det dröjer {månader}\")"
   ]
  },
  {
   "cell_type": "code",
   "execution_count": null,
   "metadata": {},
   "outputs": [],
   "source": [
    "# Uppgift m04u06\n",
    "# Inte färdiggjord \n",
    "\n",
    "start = int(input(\"Ange ett tal som loopen skall börja med\"))\n",
    "end = int(input(\"Ange ett tal som loopen skall avsluta med\"))\n",
    "secret = int(input(\"Ange ett tal som inte ska skrivas ut\"))\n",
    "stop = int(input(\"Ange ett tal som ska avbryta loppen\"))\n",
    "\n",
    "\n",
    "\n"
   ]
  },
  {
   "cell_type": "code",
   "execution_count": null,
   "metadata": {},
   "outputs": [],
   "source": []
  },
  {
   "source": [
    "# Slutuppgift"
   ],
   "cell_type": "markdown",
   "metadata": {}
  },
  {
   "cell_type": "code",
   "execution_count": 4,
   "metadata": {},
   "outputs": [
    {
     "output_type": "stream",
     "name": "stdout",
     "text": [
      "Ange ena sidans längd: 2\nAnge andra sidans längd: 2\nDet är en kvadrat\nVolymen är 4 när höjden är 1\nVolymen är 8 när höjden är 2\nVolymen är 12 när höjden är 3\nVolymen är 16 när höjden är 4\nVolymen är 20 när höjden är 5\nVolymen är 24 när höjden är 6\nVolymen är 28 när höjden är 7\nVolymen är 32 när höjden är 8\nVolymen är 36 när höjden är 9\nVolymen är 40 när höjden är 10\n"
     ]
    }
   ],
   "source": [
    "# Uppgift a), b)\n",
    "\n",
    "# En loop som kommer att fortsätta tills användaren inte vill fortsätta\n",
    "while True:\n",
    "    \n",
    "    #Be användaren att mata in rektangelns två sidor \n",
    "    sida1 = int(input(\"Ange ena sidans längd\"))\n",
    "    sida2 = int(input(\"Ange andra sidans längd\"))\n",
    "    # Printar ut det som användaren skrivit \n",
    "    print(f\"Ange ena sidans längd: {sida1}\")\n",
    "    print(f\"Ange andra sidans längd: {sida2}\")\n",
    "\n",
    "    # Beräknar arean \n",
    "    area = sida1*sida2\n",
    "\n",
    "    # Om båda sidorna är lika långa...    \n",
    "    if sida1 == sida2:\n",
    "        print(f\"Det är en kvadrat\")  # ... tala om att det är en kvadrat\n",
    "\n",
    "    # Loopa höjden från 1 till 10\n",
    "    for i in range(1,11):\n",
    "        volym = area*i     #Beräkna volymen och skriv ut den\n",
    "        print(f\"Volymen är {volym} när höjden är {i}\")\n",
    "    \n",
    "    # Påbörjat försök av uppgift b, fråga om användaren vill fortsätta eller avbryta\n",
    "    fortsatt = input(\"Vill du fortsätta? (Tryck j för ja, n för nej\")\n",
    "        if fortsatt == \"j\"\n",
    "    "
   ]
  },
  {
   "cell_type": "code",
   "execution_count": null,
   "metadata": {},
   "outputs": [],
   "source": []
  }
 ]
}