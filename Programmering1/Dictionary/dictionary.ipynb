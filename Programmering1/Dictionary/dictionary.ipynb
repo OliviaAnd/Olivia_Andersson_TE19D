{
 "cells": [
  {
   "cell_type": "code",
   "execution_count": 6,
   "metadata": {},
   "outputs": [
    {
     "name": "stdout",
     "output_type": "stream",
     "text": [
      "Kurser\n",
      "100, 150, 100, 100, 100, 100, 100, 100, 100, \n",
      "\n",
      " Totala poäng: 950\n"
     ]
    }
   ],
   "source": [
    "#Uppgift 1 \r\n",
    "summa = 0\r\n",
    "\r\n",
    "kurser = {\r\n",
    "    \"Matematik\": 100,\r\n",
    "    \"Fysik\": 150,\r\n",
    "    \"Svenska\": 100,\r\n",
    "    \"Programmering\": 100,\r\n",
    "    \"Dator- och nätverksteknik\": 100,\r\n",
    "    \"Webbutveckling\": 100,\r\n",
    "    \"Tillämpad programmering\": 100,\r\n",
    "    \"Engelska\": 100,\r\n",
    "    \"Idrott\": 100\r\n",
    "}\r\n",
    "\r\n",
    "print(\"Kurser\")\r\n",
    "for key, value in kurser.items():\r\n",
    "    summa += value \r\n",
    "    print(value, end=\", \")\r\n",
    "\r\n",
    "print(f\"\\n\\n Totala poäng: {summa}\")"
   ]
  }
 ],
 "metadata": {
  "kernelspec": {
   "display_name": "Python 3.8.3 64-bit (conda)",
   "metadata": {
    "interpreter": {
     "hash": "8a3d488cac65b56a3edc1258887eb65598ac25f856c1a45e26dcf824e9c3ee23"
    }
   },
   "name": "python3"
  },
  "language_info": {
   "codemirror_mode": {
    "name": "ipython",
    "version": 3
   },
   "file_extension": ".py",
   "mimetype": "text/x-python",
   "name": "python",
   "nbconvert_exporter": "python",
   "pygments_lexer": "ipython3",
   "version": "3.8.3"
  },
  "orig_nbformat": 2
 },
 "nbformat": 4,
 "nbformat_minor": 2
}