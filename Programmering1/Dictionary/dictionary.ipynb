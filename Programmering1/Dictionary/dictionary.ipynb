{
 "cells": [
  {
   "cell_type": "code",
   "execution_count": 6,
   "metadata": {},
   "outputs": [
    {
     "name": "stdout",
     "output_type": "stream",
     "text": [
      "Kurser\n",
      "100, 150, 100, 100, 100, 100, 100, 100, 100, \n",
      "\n",
      " Totala poäng: 950\n"
     ]
    }
   ],
   "source": [
    "#Uppgift 1 \r\n",
    "summa = 0\r\n",
    "\r\n",
    "kurser = {\r\n",
    "    \"Matematik\": 100,\r\n",
    "    \"Fysik\": 150,\r\n",
    "    \"Svenska\": 100,\r\n",
    "    \"Programmering\": 100,\r\n",
    "    \"Dator- och nätverksteknik\": 100,\r\n",
    "    \"Webbutveckling\": 100,\r\n",
    "    \"Tillämpad programmering\": 100,\r\n",
    "    \"Engelska\": 100,\r\n",
    "    \"Idrott\": 100\r\n",
    "}\r\n",
    "\r\n",
    "print(\"Kurser\")\r\n",
    "for key, value in kurser.items():\r\n",
    "    summa += value \r\n",
    "    print(value, end=\", \")\r\n",
    "\r\n",
    "print(f\"\\n\\n Totala poäng: {summa}\")"
   ]
  },
  {
   "cell_type": "code",
   "execution_count": 5,
   "metadata": {},
   "outputs": [
    {
     "name": "stdout",
     "output_type": "stream",
     "text": [
      "Frekvenstabell\n",
      "1: 16623\n",
      "2: 16729\n",
      "3: 16548\n",
      "4: 16699\n",
      "5: 16764\n",
      "6: 16637\n"
     ]
    }
   ],
   "source": [
    "# Uppgift 2\r\n",
    "\r\n",
    "import random as rnd \r\n",
    "\r\n",
    "ett = 0\r\n",
    "två = 0\r\n",
    "tre = 0\r\n",
    "fyra = 0\r\n",
    "fem = 0\r\n",
    "sex = 0\r\n",
    "\r\n",
    "\r\n",
    "for i in range (100000):\r\n",
    "    tärning = (rnd.randint (1,6))\r\n",
    "    if tärning == 1:\r\n",
    "        ett += 1\r\n",
    "    elif tärning == 2:\r\n",
    "        två += 1\r\n",
    "    elif tärning == 3:\r\n",
    "        tre += 1\r\n",
    "    elif tärning == 4:\r\n",
    "        fyra += 1\r\n",
    "    elif tärning == 5:\r\n",
    "        fem += 1\r\n",
    "    elif tärning == 6:\r\n",
    "        sex += 1\r\n",
    "\r\n",
    "frekvens = {\r\n",
    "    \"1:\": ett,\r\n",
    "    \"2:\": två,\r\n",
    "    \"3:\": tre,\r\n",
    "    \"4:\": fyra,\r\n",
    "    \"5:\": fem,\r\n",
    "    \"6:\": sex\r\n",
    "}\r\n",
    "\r\n",
    "print(\"Frekvenstabell\")\r\n",
    "for key, value in frekvens.items():\r\n",
    "    print(f\"{key} {value}\")\r\n",
    "\r\n"
   ]
  },
  {
   "cell_type": "code",
   "execution_count": 11,
   "metadata": {},
   "outputs": [
    {
     "name": "stdout",
     "output_type": "stream",
     "text": [
      "Typ: Vatten, index: 9\n"
     ]
    }
   ],
   "source": [
    "# Uppgift 3\r\n",
    "\r\n",
    "pokedex = {}\r\n",
    "\r\n",
    "with open (\"pokemonlista.txt\") as f1:\r\n",
    "    for rad in f1:\r\n",
    "        rad = rad.split()\r\n",
    "        index = rad[0]\r\n",
    "        pokemon = rad[1]\r\n",
    "        typ = rad[2]\r\n",
    "\r\n",
    "        pokedex[f\"{pokemon}\"] = f\"Typ: {typ}, index: {index}\"\r\n",
    "\r\n",
    "print(pokedex['Blastoise'])\r\n",
    "\r\n",
    "\r\n",
    "\r\n"
   ]
  }
 ],
 "metadata": {
  "kernelspec": {
   "display_name": "Python 3.8.3 64-bit (conda)",
   "metadata": {
    "interpreter": {
     "hash": "8a3d488cac65b56a3edc1258887eb65598ac25f856c1a45e26dcf824e9c3ee23"
    }
   },
   "name": "python3"
  },
  "language_info": {
   "codemirror_mode": {
    "name": "ipython",
    "version": 3
   },
   "file_extension": ".py",
   "mimetype": "text/x-python",
   "name": "python",
   "nbconvert_exporter": "python",
   "pygments_lexer": "ipython3",
   "version": "3.8.3"
  },
  "orig_nbformat": 2
 },
 "nbformat": 4,
 "nbformat_minor": 2
}