{
 "cells": [
  {
   "cell_type": "code",
   "execution_count": 11,
   "metadata": {},
   "outputs": [
    {
     "data": {
      "text/html": "<div>\n<style scoped>\n    .dataframe tbody tr th:only-of-type {\n        vertical-align: middle;\n    }\n\n    .dataframe tbody tr th {\n        vertical-align: top;\n    }\n\n    .dataframe thead th {\n        text-align: right;\n    }\n</style>\n<table border=\"1\" class=\"dataframe\">\n  <thead>\n    <tr style=\"text-align: right;\">\n      <th></th>\n      <th>Age_Group</th>\n      <th>Total_Cases</th>\n      <th>Total_ICU_Admissions</th>\n      <th>Total_Deaths</th>\n    </tr>\n  </thead>\n  <tbody>\n    <tr>\n      <th>0</th>\n      <td>0-9</td>\n      <td>9127</td>\n      <td>22</td>\n      <td>7</td>\n    </tr>\n    <tr>\n      <th>1</th>\n      <td>10-19</td>\n      <td>62180</td>\n      <td>35</td>\n      <td>3</td>\n    </tr>\n    <tr>\n      <th>2</th>\n      <td>20-29</td>\n      <td>107936</td>\n      <td>142</td>\n      <td>15</td>\n    </tr>\n    <tr>\n      <th>3</th>\n      <td>30-39</td>\n      <td>107508</td>\n      <td>194</td>\n      <td>33</td>\n    </tr>\n    <tr>\n      <th>4</th>\n      <td>40-49</td>\n      <td>109903</td>\n      <td>483</td>\n      <td>81</td>\n    </tr>\n    <tr>\n      <th>5</th>\n      <td>50-59</td>\n      <td>101188</td>\n      <td>1084</td>\n      <td>261</td>\n    </tr>\n    <tr>\n      <th>6</th>\n      <td>60-69</td>\n      <td>53511</td>\n      <td>1438</td>\n      <td>721</td>\n    </tr>\n    <tr>\n      <th>7</th>\n      <td>70-79</td>\n      <td>26476</td>\n      <td>1259</td>\n      <td>2605</td>\n    </tr>\n    <tr>\n      <th>8</th>\n      <td>80-89</td>\n      <td>20538</td>\n      <td>329</td>\n      <td>5239</td>\n    </tr>\n    <tr>\n      <th>9</th>\n      <td>90+</td>\n      <td>9980</td>\n      <td>7</td>\n      <td>3463</td>\n    </tr>\n  </tbody>\n</table>\n</div>",
      "text/plain": "  Age_Group  Total_Cases  Total_ICU_Admissions  Total_Deaths\n0       0-9         9127                    22             7\n1     10-19        62180                    35             3\n2     20-29       107936                   142            15\n3     30-39       107508                   194            33\n4     40-49       109903                   483            81\n5     50-59       101188                  1084           261\n6     60-69        53511                  1438           721\n7     70-79        26476                  1259          2605\n8     80-89        20538                   329          5239\n9       90+         9980                     7          3463"
     },
     "execution_count": 11,
     "metadata": {},
     "output_type": "execute_result"
    }
   ],
   "source": [
    "import pandas as pd\r\n",
    "\r\n",
    "df = pd.read_csv(\"National_Total_Deaths_by_Age_Group.csv\")\r\n",
    "\r\n",
    "df"
   ]
  },
  {
   "cell_type": "code",
   "execution_count": 12,
   "metadata": {},
   "outputs": [
    {
     "data": {
      "text/html": "<div>\n<style scoped>\n    .dataframe tbody tr th:only-of-type {\n        vertical-align: middle;\n    }\n\n    .dataframe tbody tr th {\n        vertical-align: top;\n    }\n\n    .dataframe thead th {\n        text-align: right;\n    }\n</style>\n<table border=\"1\" class=\"dataframe\">\n  <thead>\n    <tr style=\"text-align: right;\">\n      <th></th>\n      <th>Gender</th>\n      <th>Total_Cases</th>\n      <th>Total_ICU_Admissions</th>\n      <th>Total_Deaths</th>\n    </tr>\n  </thead>\n  <tbody>\n    <tr>\n      <th>0</th>\n      <td>Male</td>\n      <td>288507</td>\n      <td>3582</td>\n      <td>6657</td>\n    </tr>\n    <tr>\n      <th>1</th>\n      <td>Female</td>\n      <td>319641</td>\n      <td>1411</td>\n      <td>5771</td>\n    </tr>\n  </tbody>\n</table>\n</div>",
      "text/plain": "   Gender  Total_Cases  Total_ICU_Admissions  Total_Deaths\n0    Male       288507                  3582          6657\n1  Female       319641                  1411          5771"
     },
     "execution_count": 12,
     "metadata": {},
     "output_type": "execute_result"
    }
   ],
   "source": [
    "import pandas as pd\r\n",
    "\r\n",
    "df = pd.read_csv(\"Gender_Data.csv\")\r\n",
    "\r\n",
    "df"
   ]
  }
 ],
 "metadata": {
  "kernelspec": {
   "display_name": "Python 3.8.3 64-bit ('base': conda)",
   "name": "python383jvsc74a57bd08a3d488cac65b56a3edc1258887eb65598ac25f856c1a45e26dcf824e9c3ee23"
  },
  "language_info": {
   "codemirror_mode": {
    "name": "ipython",
    "version": 3
   },
   "file_extension": ".py",
   "mimetype": "text/x-python",
   "name": "python",
   "nbconvert_exporter": "python",
   "pygments_lexer": "ipython3",
   "version": "3.8.3"
  },
  "orig_nbformat": 2
 },
 "nbformat": 4,
 "nbformat_minor": 2
}