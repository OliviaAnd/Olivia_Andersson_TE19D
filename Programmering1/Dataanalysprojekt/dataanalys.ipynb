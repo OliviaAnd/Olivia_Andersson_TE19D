{
 "cells": [
  {
   "cell_type": "code",
   "execution_count": 12,
   "metadata": {},
   "outputs": [
    {
     "data": {
      "image/png": "[encoded data removed]",
      "text/plain": "<Figure size 432x288 with 1 Axes>"
     },
     "metadata": {
      "needs_background": "light"
     },
     "output_type": "display_data"
    }
   ],
   "source": [
    "import pandas as pd\r\n",
    "import matplotlib.pyplot as plt \r\n",
    "import numpy as np\r\n",
    "\r\n",
    "df_age = pd.read_csv(\"National_Total_Deaths_by_Age_Group.csv\")\r\n",
    "\r\n",
    "#df_age = df_age[df_age[\"Age_Group\"]== \"10-19\"]\r\n",
    "\r\n",
    "x = np.array(df_age[\"Age_Group\"])\r\n",
    "y = np.array(df_age[\"Total_Cases\"])\r\n",
    "\r\n",
    "plt.bar(x,y)\r\n",
    "plt.bar(x, y, color = \"hotpink\")\r\n",
    "plt.show()\r\n"
   ]
  },
  {
   "cell_type": "code",
   "execution_count": 12,
   "metadata": {},
   "outputs": [
    {
     "data": {
      "text/html": "<div>\n<style scoped>\n    .dataframe tbody tr th:only-of-type {\n        vertical-align: middle;\n    }\n\n    .dataframe tbody tr th {\n        vertical-align: top;\n    }\n\n    .dataframe thead th {\n        text-align: right;\n    }\n</style>\n<table border=\"1\" class=\"dataframe\">\n  <thead>\n    <tr style=\"text-align: right;\">\n      <th></th>\n      <th>Gender</th>\n      <th>Total_Cases</th>\n      <th>Total_ICU_Admissions</th>\n      <th>Total_Deaths</th>\n    </tr>\n  </thead>\n  <tbody>\n    <tr>\n      <th>0</th>\n      <td>Male</td>\n      <td>288507</td>\n      <td>3582</td>\n      <td>6657</td>\n    </tr>\n    <tr>\n      <th>1</th>\n      <td>Female</td>\n      <td>319641</td>\n      <td>1411</td>\n      <td>5771</td>\n    </tr>\n  </tbody>\n</table>\n</div>",
      "text/plain": "   Gender  Total_Cases  Total_ICU_Admissions  Total_Deaths\n0    Male       288507                  3582          6657\n1  Female       319641                  1411          5771"
     },
     "execution_count": 12,
     "metadata": {},
     "output_type": "execute_result"
    }
   ],
   "source": [
    "import pandas as pd\r\n",
    "\r\n",
    "df = pd.read_csv(\"Gender_Data.csv\")\r\n",
    "\r\n",
    "df"
   ]
  }
 ],
 "metadata": {
  "kernelspec": {
   "display_name": "Python 3.8.3 64-bit ('base': conda)",
   "name": "python383jvsc74a57bd08a3d488cac65b56a3edc1258887eb65598ac25f856c1a45e26dcf824e9c3ee23"
  },
  "language_info": {
   "codemirror_mode": {
    "name": "ipython",
    "version": 3
   },
   "file_extension": ".py",
   "mimetype": "text/x-python",
   "name": "python",
   "nbconvert_exporter": "python",
   "pygments_lexer": "ipython3",
   "version": "3.8.3"
  },
  "orig_nbformat": 2
 },
 "nbformat": 4,
 "nbformat_minor": 2
}