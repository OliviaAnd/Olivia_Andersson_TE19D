{
 "metadata": {
  "language_info": {
   "codemirror_mode": {
    "name": "ipython",
    "version": 3
   },
   "file_extension": ".py",
   "mimetype": "text/x-python",
   "name": "python",
   "nbconvert_exporter": "python",
   "pygments_lexer": "ipython3",
   "version": "3.8.3-final"
  },
  "orig_nbformat": 2,
  "kernelspec": {
   "name": "Python 3.8.3 64-bit (conda)",
   "display_name": "Python 3.8.3 64-bit (conda)",
   "metadata": {
    "interpreter": {
     "hash": "8a3d488cac65b56a3edc1258887eb65598ac25f856c1a45e26dcf824e9c3ee23"
    }
   }
  }
 },
 "nbformat": 4,
 "nbformat_minor": 2,
 "cells": [
  {
   "cell_type": "code",
   "execution_count": 13,
   "metadata": {},
   "outputs": [
    {
     "output_type": "stream",
     "name": "stdout",
     "text": [
      "1 2 3 4 Burr\n6 7 8 9 Burr\n11 12 13 14 Burr\n16 17 18 19 Burr\n21 22 23 24 Burr\n26 27 28 29 Burr\n31 32 33 34 Burr\n36 37 38 39 Burr\n41 42 43 44 Burr\n46 47 48 49 Burr\n51 52 53 54 Burr\n56 57 58 59 Burr\n61 62 63 64 Burr\n66 67 68 69 Burr\n71 72 73 74 Burr\n76 77 78 79 Burr\n81 82 83 84 Burr\n86 87 88 89 Burr\n91 92 93 94 Burr\n96 97 98 99 Burr\n"
     ]
    }
   ],
   "source": [
    "# Uppgift a), b)\n",
    "\n",
    "for i in range (1,101):  #Alla tal mellan 1-100 skrivs ut\n",
    "    if i%5 == 0:         #Om ett tal går att divideras med 5 kommer den att skrivas som \"Burr\" istället \n",
    "        print(\"Burr\")\n",
    "    else:\n",
    "        print(i, end =\" \")  #Om talet inte är en multiple av 5 skrivs den ut som vanligt \n",
    "\n"
   ]
  },
  {
   "cell_type": "code",
   "execution_count": 22,
   "metadata": {},
   "outputs": [
    {
     "output_type": "stream",
     "name": "stdout",
     "text": [
      "1 2 3 Burr\n5 6 7 Burr\n9 10 11 Burr\n13 14 15 Burr\n17 18 19 Burr\n21 22 23 Burr\n25 26 27 Burr\n29 30 31 Burr\n33 34 35 Burr\n37 38 39 Burr\n41 42 43 Burr\n45 46 47 Burr\n49 50 51 Burr\n53 54 55 Burr\n57 58 59 Burr\n61 62 63 Burr\n65 66 67 Burr\n69 70 71 Burr\n73 74 75 Burr\n77 78 79 Burr\n81 82 83 Burr\n85 86 87 Burr\n89 90 91 Burr\n93 94 95 Burr\n97 98 99 Burr\n"
     ]
    }
   ],
   "source": [
    "#Uppgift c)\n",
    "\n",
    "burr = int(input(\"Ange en multiple\"))\n",
    "\n",
    "for i in range (1,101):\n",
    "    if i%burr == 0:\n",
    "        print (\"Burr\")\n",
    "    else:\n",
    "        print (i, end = \" \")\n"
   ]
  },
  {
   "cell_type": "code",
   "execution_count": 26,
   "metadata": {},
   "outputs": [
    {
     "output_type": "stream",
     "name": "stdout",
     "text": [
      "1 2 3 Burr\n5 Birr\n7 Burr\n9 10 11 Burr\n13 14 15 Burr\n17 Birr\n19 Burr\n21 22 23 Burr\n25 26 27 Burr\n29 Birr\n31 Burr\n33 34 35 Burr\n37 38 39 Burr\n41 Birr\n43 Burr\n45 46 47 Burr\n49 50 51 Burr\n53 Birr\n55 Burr\n57 58 59 Burr\n61 62 63 Burr\n65 Birr\n67 Burr\n69 70 71 Burr\n73 74 75 Burr\n77 Birr\n79 Burr\n81 82 83 Burr\n85 86 87 Burr\n89 Birr\n91 Burr\n93 94 95 Burr\n97 98 99 Burr\n"
     ]
    }
   ],
   "source": [
    "#Uppgift d)\n",
    "\n",
    "burr = int(input(\"Ange en multiple\"))\n",
    "birr = int(input(\"Ange en multiple\"))\n",
    "\n",
    "for i in range (1,101):\n",
    "    if i%burr == 0:               #Om talet är delbart med den multiple som användaren valt, kommer talet att skrivas som Burr\n",
    "        print (\"Burr\")\n",
    "    elif i%birr == 0:\n",
    "            print (\"Birr\")        #Om talet är delbart med den multiple som användaren valt, kommer talet att skrivas som Birr\n",
    "    else:\n",
    "        print (i, end = \" \")      #Om inte skrivs talet som vanligt "
   ]
  },
  {
   "cell_type": "code",
   "execution_count": 50,
   "metadata": {},
   "outputs": [
    {
     "output_type": "stream",
     "name": "stdout",
     "text": [
      "1 Burr\n3 Burr\nBirr\nBurr\n7 Burr\n9 Burr\n11 Burr\n13 Burr\nBirr\nBurr\n17 Burr\n19 Burr\n21 Burr\n23 Burr\nBirr\nBurr\n27 Burr\n29 Burr\n31 Burr\n33 Burr\nBirr\nBurr\n37 Burr\n39 Burr\n41 Burr\n43 Burr\nBirr\nBurr\n47 Burr\n49 Burr\n51 Burr\n53 Burr\nBirr\nBurr\n57 Burr\n59 Burr\n61 Burr\n63 Burr\nBirr\nBurr\n67 Burr\n69 Burr\n71 Burr\n73 Burr\nBirr\nBurr\n77 Burr\n79 Burr\n81 Burr\n83 Burr\nBirr\nBurr\n87 Burr\n89 Burr\n91 Burr\n93 Burr\nBirr\nBurr\n97 Burr\n99 Burr\nAntalet Burr är: 50\nAntalet Birr är: 10\n"
     ]
    }
   ],
   "source": [
    "#Uppgift e) \n",
    "\n",
    "start = int(input(\"Ange ett startvärde\"))           #Användaren skriver in ett start- och ett sluttal \n",
    "slut = int(input(\"Ange ett slutvärde\")) +1\n",
    "\n",
    "burr = int(input(\"Ange en multiple\"))\n",
    "birr = int(input(\"Ange en multiple\"))\n",
    "\n",
    "burr1 = 0           #burr och birr har båda ett startvärde på 0\n",
    "birr1 = 0 \n",
    "\n",
    "for i in range (start,slut):\n",
    "    if i%burr == 0:\n",
    "        print (\"Burr\")\n",
    "        burr1 += 1                #Om talet blir Burr adderas 1 till burr1 variabeln \n",
    "    \n",
    "    elif i%birr == 0:\n",
    "        print (\"Birr\")\n",
    "        birr1 += 1                #Om talet blir Birr adderas 1 till birr1 variabeln \n",
    "\n",
    "    else: \n",
    "        print (i, end = \" \")\n",
    "\n",
    "\n",
    "\n",
    "print (f\"Antalet Burr är: {burr1}\")          #Eftersom det för varje Burr adderas 1 kan vi nu få en summa av alla Burr \n",
    "print (f\"Antalet Birr är: {birr1}\")          #Detsamma gäller för Birr"
   ]
  },
  {
   "cell_type": "code",
   "execution_count": null,
   "metadata": {},
   "outputs": [],
   "source": [
    "#Mitt försök till att räkna ut Burr Birr,\n",
    "\n",
    "start = int(input(\"Ange ett startvärde\"))\n",
    "slut = int(input(\"Ange ett slutvärde\")) +1\n",
    "\n",
    "burr = int(input(\"Ange en multiple\"))\n",
    "birr = int(input(\"Ange en multiple\"))\n",
    "\n",
    "burr1 = 0\n",
    "birr1 = 0 \n",
    "burrbirr = 0\n",
    "\n",
    "for i in range (start,slut):\n",
    "    if i%burr == 0:\n",
    "        print (\"Burr\")\n",
    "        burr1 += 1\n",
    "    \n",
    "    elif i%birr == 0:\n",
    "        print (\"Birr\")\n",
    "        birr1 += 1\n",
    "\n",
    "    else: \n",
    "        print (i, end = \" \")\n",
    "\n",
    "\n",
    "print (f\"Antalet Burr är: {burr1}\")\n",
    "print (f\"Antalet Birr är: {birr1}\")\n",
    "\n",
    "for i in range (burrbirr):\n",
    "    i = burr1 + birr1:\n",
    "        print (f\"Antalet Burr Birr är: {burrbirr}\")"
   ]
  }
 ]
}