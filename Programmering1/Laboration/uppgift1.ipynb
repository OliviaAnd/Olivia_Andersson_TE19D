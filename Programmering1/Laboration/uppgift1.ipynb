{
 "metadata": {
  "language_info": {
   "codemirror_mode": {
    "name": "ipython",
    "version": 3
   },
   "file_extension": ".py",
   "mimetype": "text/x-python",
   "name": "python",
   "nbconvert_exporter": "python",
   "pygments_lexer": "ipython3",
   "version": "3.8.3-final"
  },
  "orig_nbformat": 2,
  "kernelspec": {
   "name": "Python 3.8.3 64-bit (conda)",
   "display_name": "Python 3.8.3 64-bit (conda)",
   "metadata": {
    "interpreter": {
     "hash": "8a3d488cac65b56a3edc1258887eb65598ac25f856c1a45e26dcf824e9c3ee23"
    }
   }
  }
 },
 "nbformat": 4,
 "nbformat_minor": 2,
 "cells": [
  {
   "cell_type": "code",
   "execution_count": 4,
   "metadata": {},
   "outputs": [
    {
     "output_type": "stream",
     "name": "stdout",
     "text": [
      "Avståndet från origo är 0.7071067811865476\n"
     ]
    }
   ],
   "source": [
    "# a) \n",
    "\n",
    "import math \n",
    "\n",
    "c = 0.5**2 + 0.5**2          #Använde pythagoras sats för att ta reda på avståndet till origo, alltså tog jag roten ur kateterna som i detta fall är 0.5 på båda\n",
    "\n",
    "svar = math.sqrt(c)          #Sedan roten ur \"c\", som är hypotenusan \n",
    "\n",
    "print(f\"Avståndet från origo är {svar}\")\n"
   ]
  },
  {
   "cell_type": "code",
   "execution_count": 5,
   "metadata": {},
   "outputs": [
    {
     "output_type": "stream",
     "name": "stdout",
     "text": [
      "Avståndet från origo är 1.4142135623730951\n"
     ]
    }
   ],
   "source": [
    "# b)\n",
    "\n",
    "import math \n",
    "\n",
    "c = 1**2 + 1**2 \n",
    "\n",
    "svar = math.sqrt(c)\n",
    "\n",
    "print(f\"Avståndet från origo är {svar}\")"
   ]
  },
  {
   "cell_type": "code",
   "execution_count": 6,
   "metadata": {},
   "outputs": [
    {
     "output_type": "stream",
     "name": "stdout",
     "text": [
      "Avståndet från origo är 0.7071067811865476\n"
     ]
    }
   ],
   "source": [
    "# c)\n",
    "\n",
    "import math \n",
    "\n",
    "x = 0.5**2        \n",
    "\n",
    "y = 0 - 0.5      \n",
    "\n",
    "c = x + y**2         #Pythagoras sats där jag på x-axeln (variabel x) räknar ut kateten (roten ur 0.5), och sedan avståndet från origo på y-axeln (variabel y) vilket inte kan vara negativt. Här tar jag roten ur den andra kateten (variabel y). \n",
    "\n",
    "svar = math.sqrt(c)     #Roten ur hypotenusan för att få svaret. \n",
    "\n",
    "print(f\"Avståndet från origo är {svar}\")"
   ]
  },
  {
   "cell_type": "code",
   "execution_count": 3,
   "metadata": {},
   "outputs": [
    {
     "output_type": "stream",
     "name": "stdout",
     "text": [
      "x = -0.9710382878691737 y = -0.14105255000444816\nx = 0.38468745848036034 y = -0.44081532296403747\nx = 0.9873717999226956 y = -0.037675134155193746\n"
     ]
    }
   ],
   "source": [
    "# d) \n",
    "\n",
    "import random                #För att få random tal \n",
    "\n",
    "x = random.uniform(-1,1)     #För att få random tal mellan -1 och 1 på x-axeln \n",
    "y = random.uniform(-1,1)     #För att få random tal mellan -1 och 1 på y-axeln \n",
    "\n",
    "print(f\"x = {x} y = {y}\")\n",
    "\n",
    "x1 = random.uniform(-1,1)\n",
    "y1 = random.uniform(-1,1)\n",
    "\n",
    "print(f\"x = {x1} y = {y1}\")\n",
    "\n",
    "x2 = random.uniform(-1,1)\n",
    "y2 = random.uniform(-1,1)\n",
    "\n",
    "print(f\"x = {x2} y = {y2}\")\n"
   ]
  },
  {
   "cell_type": "code",
   "execution_count": 27,
   "metadata": {},
   "outputs": [
    {
     "output_type": "stream",
     "name": "stdout",
     "text": [
      "3.1457021276595745\n"
     ]
    }
   ],
   "source": [
    "# e), f), g), h)\n",
    "\n",
    "import random\n",
    "import math\n",
    "import numpy as np\n",
    "\n",
    "i = 0 # Startvärde \n",
    "\n",
    "for j in range(47000): # Antal punkter som simuleras \n",
    "    x = random.uniform(-1,1) \n",
    "    y = random.uniform(-1,1)\n",
    "\n",
    "    avstånd = np.sqrt(x**2+y**2) # Maxavståndet för en punkt innanför cirkeln \n",
    "\n",
    "    \n",
    "\n",
    "    if avstånd < 1: # Om avståndet är mindre än ett så är punkten innanför cirkeln\n",
    "        i += 1 # Lägger till punkterna innanför cirkeln \n",
    "k = 4*i/47000 # Multiplicerar antalet punkter innanför cirkeln med fyra, och sedan dividerar med det totala antalet simulerade punkter \n",
    "\n",
    "\n",
    "print(k) # Desto fler punkter man simulerar, desto närmare kommer man pi"
   ]
  }
 ]
}