{
 "metadata": {
  "language_info": {
   "codemirror_mode": {
    "name": "ipython",
    "version": 3
   },
   "file_extension": ".py",
   "mimetype": "text/x-python",
   "name": "python",
   "nbconvert_exporter": "python",
   "pygments_lexer": "ipython3",
   "version": "3.8.3-final"
  },
  "orig_nbformat": 2,
  "kernelspec": {
   "name": "python_defaultSpec_1600071187344",
   "display_name": "Python 3.8.3 64-bit ('base': conda)"
  }
 },
 "nbformat": 4,
 "nbformat_minor": 2,
 "cells": [
  {
   "cell_type": "code",
   "execution_count": 1,
   "metadata": {
    "tags": []
   },
   "outputs": [
    {
     "output_type": "stream",
     "name": "stdout",
     "text": "0.0 Kelvin är -273.15 celsius\n"
    }
   ],
   "source": [
    "Kelvin = float(input(\"Ange temperaturen i Kelvin\"))\n",
    "Celsius = Kelvin-273.15\n",
    "\n",
    "print(f\"{Kelvin} Kelvin är {Celsius} celsius\")\n"
   ]
  },
  {
   "cell_type": "code",
   "execution_count": 2,
   "metadata": {
    "tags": []
   },
   "outputs": [
    {
     "output_type": "stream",
     "name": "stdout",
     "text": "0.0 celsius är 273.15 Kelvin\n"
    }
   ],
   "source": [
    "Celsius = float(input(\"Ange temperaturen i celsius\"))\n",
    "Kelvin = Celsius+273.15\n",
    "\n",
    "print(f\"{Celsius} celsius är {Kelvin} Kelvin\")\n"
   ]
  },
  {
   "cell_type": "code",
   "execution_count": 7,
   "metadata": {
    "tags": []
   },
   "outputs": [
    {
     "output_type": "stream",
     "name": "stdout",
     "text": "Totala konstanden är 210.0 kr\n"
    }
   ],
   "source": [
    "Turer = float(input(\"Ange hur många gånger du åker med Västtrafik\"))\n",
    "\n",
    "Engångsbiljett = 30 \n",
    "\n",
    "Total = Engångsbiljett*Turer\n",
    "\n",
    "print(f\"Totala konstanden är {Total} kr\")\n"
   ]
  }
 ]
}