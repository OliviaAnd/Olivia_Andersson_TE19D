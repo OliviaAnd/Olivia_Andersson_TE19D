{
 "metadata": {
  "language_info": {
   "codemirror_mode": {
    "name": "ipython",
    "version": 3
   },
   "file_extension": ".py",
   "mimetype": "text/x-python",
   "name": "python",
   "nbconvert_exporter": "python",
   "pygments_lexer": "ipython3",
   "version": "3.8.3-final"
  },
  "orig_nbformat": 2,
  "kernelspec": {
   "name": "python_defaultSpec_1600071189672",
   "display_name": "Python 3.8.3 64-bit ('base': conda)"
  }
 },
 "nbformat": 4,
 "nbformat_minor": 2,
 "cells": [
  {
   "cell_type": "code",
   "execution_count": 5,
   "metadata": {},
   "outputs": [
    {
     "output_type": "error",
     "ename": "SyntaxError",
     "evalue": "invalid syntax (<ipython-input-5-402c97b2e0dd>, line 3)",
     "traceback": [
      "\u001b[1;36m  File \u001b[1;32m\"<ipython-input-5-402c97b2e0dd>\"\u001b[1;36m, line \u001b[1;32m3\u001b[0m\n\u001b[1;33m    if tal%==0:\u001b[0m\n\u001b[1;37m          ^\u001b[0m\n\u001b[1;31mSyntaxError\u001b[0m\u001b[1;31m:\u001b[0m invalid syntax\n"
     ]
    }
   ],
   "source": [
    "tal = int(input(\"Ange ett heltal\"))\n",
    "\n",
    "if tal%==0:\n",
    "    print(\"Talet är jämt\")\n",
    "else:\n",
    "    print(\"Talet är udda\")"
   ]
  },
  {
   "cell_type": "code",
   "execution_count": 6,
   "metadata": {
    "tags": []
   },
   "outputs": [
    {
     "output_type": "stream",
     "name": "stdout",
     "text": "Spetsig vinkel\n"
    }
   ],
   "source": [
    "vinkel = float(input(\"Ange en vinkel v i grader, där 0<=<=360: \"))\n",
    "\n",
    "# 0 < v < 90 v är spetsig \n",
    "# v =90: rät vinkel \n",
    "# 90 < v < 180: trubbg vinkel \n",
    "\n",
    "if vinkel < 90 and vinkel > 0:\n",
    "    print(\"Spetsig vinkel\")\n",
    "elif vinkel == 90:\n",
    "    print(\"Vinkeln är rät\")\n",
    "elif vinkel < 180:\n",
    "    print(\"Trubbig vinkel\")\n",
    "else:\n",
    "    print(\"Vinkeln är varken trubbig, rät eller spetsig\")"
   ]
  },
  {
   "cell_type": "code",
   "execution_count": null,
   "metadata": {},
   "outputs": [],
   "source": []
  }
 ]
}