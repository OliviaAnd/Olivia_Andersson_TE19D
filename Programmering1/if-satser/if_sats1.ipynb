{
 "metadata": {
  "language_info": {
   "codemirror_mode": {
    "name": "ipython",
    "version": 3
   },
   "file_extension": ".py",
   "mimetype": "text/x-python",
   "name": "python",
   "nbconvert_exporter": "python",
   "pygments_lexer": "ipython3",
   "version": "3.8.3-final"
  },
  "orig_nbformat": 2,
  "kernelspec": {
   "name": "python_defaultSpec_1600188656459",
   "display_name": "Python 3.8.3 64-bit ('base': conda)"
  }
 },
 "nbformat": 4,
 "nbformat_minor": 2,
 "cells": [
  {
   "cell_type": "code",
   "execution_count": 7,
   "metadata": {
    "tags": []
   },
   "outputs": [
    {
     "output_type": "stream",
     "name": "stdout",
     "text": "Talet är udda\n"
    }
   ],
   "source": [
    "tal = int(input(\"Ange ett heltal\"))\n",
    "\n",
    "if tal%2==0:\n",
    "    print(\"Talet är jämt\")\n",
    "else:\n",
    "    print(\"Talet är udda\")"
   ]
  },
  {
   "cell_type": "code",
   "execution_count": 1,
   "metadata": {
    "tags": []
   },
   "outputs": [
    {
     "output_type": "stream",
     "name": "stdout",
     "text": "Spetsig vinkel\n"
    }
   ],
   "source": [
    "vinkel = float(input(\"Ange en vinkel v i grader, där 0<=<=360: \"))\n",
    "\n",
    "# 0 < v < 90 v är spetsig \n",
    "# v =90: rät vinkel \n",
    "# 90 < v < 180: trubbg vinkel \n",
    "\n",
    "if vinkel < 90 and vinkel > 0:\n",
    "    print(\"Spetsig vinkel\")\n",
    "elif vinkel == 90:\n",
    "    print(\"Vinkeln är rät\")\n",
    "elif vinkel < 180:\n",
    "    print(\"Trubbig vinkel\")\n",
    "else:\n",
    "    print(\"Vinkeln är varken trubbig, rät eller spetsig\")"
   ]
  },
  {
   "cell_type": "code",
   "execution_count": 2,
   "metadata": {},
   "outputs": [
    {
     "output_type": "error",
     "ename": "SyntaxError",
     "evalue": "invalid syntax (<ipython-input-2-6cfa56b6c143>, line 13)",
     "traceback": [
      "\u001b[1;36m  File \u001b[1;32m\"<ipython-input-2-6cfa56b6c143>\"\u001b[1;36m, line \u001b[1;32m13\u001b[0m\n\u001b[1;33m    else tal==0:\u001b[0m\n\u001b[1;37m         ^\u001b[0m\n\u001b[1;31mSyntaxError\u001b[0m\u001b[1;31m:\u001b[0m invalid syntax\n"
     ]
    }
   ],
   "source": [
    "# uppgift ett \n",
    "\n",
    "tal = int(input(\"Ange ett tal\")) \n",
    "\n",
    "# om tal är < 0 är det negativt \n",
    "# om tal är > 0 är det positivt \n",
    "# om tal är 0 är det 0 \n",
    "\n",
    "if tal < 0:\n",
    "    print(\"Negativt\")\n",
    "elif tal > 0:\n",
    "    print(\"Positivt\")\n",
    "else tal == 0:\n",
    "    print(\"Noll\")"
   ]
  }
 ]
}