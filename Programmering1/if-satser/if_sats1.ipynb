{
 "metadata": {
  "language_info": {
   "codemirror_mode": {
    "name": "ipython",
    "version": 3
   },
   "file_extension": ".py",
   "mimetype": "text/x-python",
   "name": "python",
   "nbconvert_exporter": "python",
   "pygments_lexer": "ipython3",
   "version": "3.8.3-final"
  },
  "orig_nbformat": 2,
  "kernelspec": {
   "name": "python_defaultSpec_1600248981772",
   "display_name": "Python 3.8.3 64-bit ('base': conda)"
  }
 },
 "nbformat": 4,
 "nbformat_minor": 2,
 "cells": [
  {
   "cell_type": "code",
   "execution_count": 7,
   "metadata": {
    "tags": []
   },
   "outputs": [
    {
     "output_type": "stream",
     "name": "stdout",
     "text": "Talet är udda\n"
    }
   ],
   "source": [
    "tal = int(input(\"Ange ett heltal\"))\n",
    "\n",
    "if tal%2==0:\n",
    "    print(\"Talet är jämt\")\n",
    "else:\n",
    "    print(\"Talet är udda\")"
   ]
  },
  {
   "cell_type": "code",
   "execution_count": 1,
   "metadata": {
    "tags": []
   },
   "outputs": [
    {
     "output_type": "stream",
     "name": "stdout",
     "text": "Spetsig vinkel\n"
    }
   ],
   "source": [
    "vinkel = float(input(\"Ange en vinkel v i grader, där 0<=<=360: \"))\n",
    "\n",
    "# 0 < v < 90 v är spetsig \n",
    "# v =90: rät vinkel \n",
    "# 90 < v < 180: trubbg vinkel \n",
    "\n",
    "if vinkel < 90 and vinkel > 0:\n",
    "    print(\"Spetsig vinkel\")\n",
    "elif vinkel == 90:\n",
    "    print(\"Vinkeln är rät\")\n",
    "elif vinkel < 180:\n",
    "    print(\"Trubbig vinkel\")\n",
    "else:\n",
    "    print(\"Vinkeln är varken trubbig, rät eller spetsig\")"
   ]
  },
  {
   "cell_type": "code",
   "execution_count": 2,
   "metadata": {
    "tags": []
   },
   "outputs": [
    {
     "output_type": "stream",
     "name": "stdout",
     "text": "Noll\n"
    }
   ],
   "source": [
    "# uppgift ett \n",
    "\n",
    "tal = int(input(\"Ange ett tal\")) \n",
    "\n",
    "# om tal är < 0 är det negativt \n",
    "# om tal är > 0 är det positivt \n",
    "# om tal är 0 är det 0 \n",
    "\n",
    "if tal < 0:\n",
    "    print(\"Negativt\")\n",
    "elif tal > 0:\n",
    "    print(\"Positivt\")\n",
    "else:\n",
    "    print(\"Noll\")"
   ]
  },
  {
   "cell_type": "code",
   "execution_count": 4,
   "metadata": {
    "tags": []
   },
   "outputs": [
    {
     "output_type": "stream",
     "name": "stdout",
     "text": "Talet är jämt\nTalet är delbart med fem\n"
    }
   ],
   "source": [
    "# uppgift 2\n",
    "\n",
    "tal = int(input(\"Ange ett tal\"))\n",
    "\n",
    "if tal%2 == 0:\n",
    "    print(\"Talet är jämt\")\n",
    "else:\n",
    "    print(\"Talet är udda\")\n",
    "if tal%5 == 0:\n",
    "    print(\"Talet är delbart med fem\")\n",
    "\n"
   ]
  },
  {
   "cell_type": "code",
   "execution_count": 6,
   "metadata": {
    "tags": []
   },
   "outputs": [
    {
     "output_type": "stream",
     "name": "stdout",
     "text": "9 är störst\n"
    }
   ],
   "source": [
    "# uppgift 3\n",
    "\n",
    "tal1 = int(input(\"Ange ett tal\"))\n",
    "tal2 = int(input(\"Ange ett tal\"))\n",
    "tal3 = int(input(\"Ange ett tal\"))\n",
    "tal4 = int(input(\"Ange ett tal\"))\n",
    "\n",
    "if tal1 > tal2 and tal1 > tal3 and tal1 > tal4: \n",
    "    print(f\"{tal1} är störst\")\n",
    "if tal2 > tal1 and tal2 > tal3 and tal2 > tal4:\n",
    "    print(f\"{tal2} är störst\")\n",
    "if tal3 > tal1 and tal3 > tal2 and tal3 > tal4:\n",
    "    print(f\"{tal3} är störst\")\n",
    "if tal4 > tal1 and tal4 > tal2 and tal4 > tal3:\n",
    "    print(f\"{tal4} är störst\")"
   ]
  },
  {
   "cell_type": "code",
   "execution_count": 9,
   "metadata": {
    "tags": []
   },
   "outputs": [
    {
     "output_type": "stream",
     "name": "stdout",
     "text": "Vinkeln är trubbig\n"
    }
   ],
   "source": [
    "# uppgift 4\n",
    "\n",
    "vinkel = int(input(\"Ange en vinkelgrad\"))\n",
    "\n",
    "if vinkel < 90 and vinkel >0:\n",
    "    print(\"Vinkeln är spetsig\")\n",
    "if vinkel == 90:\n",
    "    print(\"Vinkeln är rät\")\n",
    "if vinkel > 90 and vinkel < 180:\n",
    "    print(\"Vinkeln är trubbig\")\n",
    "if vinkel == 180:\n",
    "    print(\"Vinkeln är rak\")\n",
    "if vinkel > 180 and vinkel < 360:\n",
    "    print(\"Vinkeln är konvex\")\n",
    "if vinkel == 360:\n",
    "    print(\"Vinkeln är hel\")\n"
   ]
  },
  {
   "cell_type": "code",
   "execution_count": 11,
   "metadata": {
    "tags": []
   },
   "outputs": [
    {
     "output_type": "stream",
     "name": "stdout",
     "text": "Felmeddelande\n"
    }
   ],
   "source": [
    "# uppgift 5\n",
    "\n",
    "r = float(input(\"Ange en radie\"))\n",
    "\n",
    "area = 3,14*r**2 \n",
    "omkrets = r*2*3,14\n",
    "\n",
    "if r < 0:\n",
    "    print(\"Felmeddelande\")\n",
    "else: \n",
    "    print(f\"Omkretsen är {omkrets} och arean är {area}\")"
   ]
  },
  {
   "cell_type": "code",
   "execution_count": null,
   "metadata": {},
   "outputs": [],
   "source": [
    "# uppgift 6"
   ]
  }
 ]
}