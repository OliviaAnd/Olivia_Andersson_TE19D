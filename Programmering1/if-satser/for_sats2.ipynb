{
 "metadata": {
  "language_info": {
   "codemirror_mode": {
    "name": "ipython",
    "version": 3
   },
   "file_extension": ".py",
   "mimetype": "text/x-python",
   "name": "python",
   "nbconvert_exporter": "python",
   "pygments_lexer": "ipython3",
   "version": "3.8.3-final"
  },
  "orig_nbformat": 2,
  "kernelspec": {
   "name": "Python 3.8.3 64-bit ('base': conda)",
   "display_name": "Python 3.8.3 64-bit ('base': conda)",
   "metadata": {
    "interpreter": {
     "hash": "8a3d488cac65b56a3edc1258887eb65598ac25f856c1a45e26dcf824e9c3ee23"
    }
   }
  }
 },
 "nbformat": 4,
 "nbformat_minor": 2,
 "cells": [
  {
   "cell_type": "code",
   "execution_count": 1,
   "metadata": {
    "tags": []
   },
   "outputs": [
    {
     "output_type": "stream",
     "name": "stdout",
     "text": [
      "1. Hej\n2. Hej\n3. Hej\n4. Hej\n"
     ]
    }
   ],
   "source": [
    "for i in range(1,5):\n",
    "    print(f\"{i}. Hej\")\n"
   ]
  },
  {
   "cell_type": "code",
   "execution_count": 8,
   "metadata": {
    "tags": []
   },
   "outputs": [
    {
     "output_type": "stream",
     "name": "stdout",
     "text": "1 2 3 4 5 6 7 8 9 10 11 12 13 14 15 16 17 18 19 20 "
    }
   ],
   "source": [
    "#skriv ut talen från 1-20\n",
    "for i in range(1,21):\n",
    "    print(i, end = \" \")"
   ]
  },
  {
   "cell_type": "code",
   "execution_count": 9,
   "metadata": {
    "tags": []
   },
   "outputs": [
    {
     "output_type": "stream",
     "name": "stdout",
     "text": "Summan 1+2+3...+19+20  = 210\n"
    }
   ],
   "source": [
    "#Addera ihop 1+2+3...+19+20\n",
    "s = 0 \n",
    "for i in range(1,21):\n",
    "    s = s + i      #s är gamla s plus i\n",
    "print(f\"Summan 1+2+3...+19+20  = {s}\")"
   ]
  },
  {
   "cell_type": "code",
   "execution_count": 10,
   "metadata": {
    "tags": []
   },
   "outputs": [
    {
     "output_type": "stream",
     "name": "stdout",
     "text": "1 3 5 7 9 11 "
    }
   ],
   "source": [
    "for i in range(1,12,2):\n",
    "    print(i, end = \" \")"
   ]
  },
  {
   "cell_type": "code",
   "execution_count": 13,
   "metadata": {
    "tags": []
   },
   "outputs": [
    {
     "output_type": "stream",
     "name": "stdout",
     "text": "5 4 3 2 1 "
    }
   ],
   "source": [
    "for i in range(5):\n",
    "    print(5-i, end = \" \")"
   ]
  },
  {
   "cell_type": "code",
   "execution_count": 21,
   "metadata": {
    "tags": []
   },
   "outputs": [
    {
     "output_type": "stream",
     "name": "stdout",
     "text": "Kokchun Henrik Niklas Tatiana Erik Herman Lisa "
    }
   ],
   "source": [
    "lararlista = [\"Kokchun\", \"Henrik\", \"Niklas\", \"Tatiana\", \"Erik\", \"Herman\", \"Lisa\"]\n",
    "\n",
    "for larare in lararlista:\n",
    "    print(larare, end = \" \")"
   ]
  },
  {
   "cell_type": "code",
   "execution_count": null,
   "metadata": {},
   "outputs": [],
   "source": []
  }
 ]
}