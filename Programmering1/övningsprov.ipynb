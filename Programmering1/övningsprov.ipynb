{
 "metadata": {
  "language_info": {
   "codemirror_mode": {
    "name": "ipython",
    "version": 3
   },
   "file_extension": ".py",
   "mimetype": "text/x-python",
   "name": "python",
   "nbconvert_exporter": "python",
   "pygments_lexer": "ipython3",
   "version": "3.8.3-final"
  },
  "orig_nbformat": 2,
  "kernelspec": {
   "name": "python3",
   "display_name": "Python 3",
   "language": "python"
  }
 },
 "nbformat": 4,
 "nbformat_minor": 2,
 "cells": [
  {
   "cell_type": "code",
   "execution_count": null,
   "metadata": {},
   "outputs": [],
   "source": [
    "# Uppgift 1\r\n",
    "\r\n",
    "# Fåglarna minskar med hälften varje år."
   ]
  },
  {
   "cell_type": "code",
   "execution_count": null,
   "metadata": {},
   "outputs": [],
   "source": [
    "# Upggift 2\n"
   ]
  },
  {
   "cell_type": "code",
   "execution_count": 1,
   "metadata": {},
   "outputs": [
    {
     "output_type": "stream",
     "name": "stdout",
     "text": [
      "Medelvärdet är 3.0\n"
     ]
    }
   ],
   "source": [
    "# Uppgift 3\n",
    "\n",
    "def medelvärde(a,b,c):\n",
    "    medel = (a+b+c)/3\n",
    "\n",
    "    return medel \n",
    "\n",
    "resultat = medelvärde(1,3,5)\n",
    "\n",
    "print(f\"Medelvärdet är {resultat}\")"
   ]
  },
  {
   "cell_type": "code",
   "execution_count": 3,
   "metadata": {},
   "outputs": [
    {
     "output_type": "stream",
     "name": "stdout",
     "text": [
      "Volymen för klotet är 267.94666666666666\n"
     ]
    }
   ],
   "source": [
    "# Uppgift 4\n",
    "\n",
    "r = float(input(\"Skriv din radie\"))\n",
    "\n",
    "def radie(r):\n",
    "    klot = (3.14*4*r**3)/3\n",
    "\n",
    "    return klot\n",
    "\n",
    "volym = radie(r)\n",
    "\n",
    "print(f\"Volymen för klotet är {volym}\")"
   ]
  },
  {
   "cell_type": "code",
   "execution_count": 4,
   "metadata": {},
   "outputs": [
    {
     "output_type": "stream",
     "name": "stdout",
     "text": [
      "Antal ord i Det var en gång är: 4\n"
     ]
    }
   ],
   "source": [
    "# Uppgift 5 \n",
    "\n",
    "mening = input(\"Skriv en mening\")\n",
    "\n",
    "antal_ord = mening.split(\" \")\n",
    "\n",
    "antal_ord = len(antal_ord)\n",
    "\n",
    "print(f\"Antal ord i {mening} är: {antal_ord}\")"
   ]
  },
  {
   "cell_type": "code",
   "execution_count": 9,
   "metadata": {
    "tags": []
   },
   "outputs": [
    {
     "output_type": "error",
     "ename": "SyntaxError",
     "evalue": "invalid syntax (<ipython-input-9-06882b146c1a>, line 22)",
     "traceback": [
      "\u001b[1;36m  File \u001b[1;32m\"<ipython-input-9-06882b146c1a>\"\u001b[1;36m, line \u001b[1;32m22\u001b[0m\n\u001b[1;33m    else print(\"Fel svar...\")\u001b[0m\n\u001b[1;37m         ^\u001b[0m\n\u001b[1;31mSyntaxError\u001b[0m\u001b[1;31m:\u001b[0m invalid syntax\n"
     ]
    }
   ],
   "source": [
    "# Uppgift 6 \n",
    "\n",
    "import random as rnd \n",
    "\n",
    "\n",
    "while True:\n",
    "    spela = input(\"Vill du spela? (j för ja, annan tangent för nej)\")\n",
    "\n",
    "    if spela != \"j\":\n",
    "        break\n",
    "\n",
    "    tal1 = rnd.randint(1,11)\n",
    "    tal2 = rnd.randint(1,11)\n",
    "\n",
    "    print(f\"{tal1} * {tal2}\")\n",
    "\n",
    "    tal3 = tal1 * tal2\n",
    "\n",
    "    svar = input(\"Skriv ditt svar\")\n",
    "    if svar == tal1 * tal2:\n",
    "        print(\"Rätt svar!\")\n",
    "        \n",
    "        else print(\"Fel svar...\")\n"
   ]
  },
  {
   "cell_type": "code",
   "execution_count": null,
   "metadata": {},
   "outputs": [],
   "source": []
  }
 ]
}