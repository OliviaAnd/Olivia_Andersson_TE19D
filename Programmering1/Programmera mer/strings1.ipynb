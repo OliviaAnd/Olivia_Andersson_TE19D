{
 "metadata": {
  "language_info": {
   "codemirror_mode": {
    "name": "ipython",
    "version": 3
   },
   "file_extension": ".py",
   "mimetype": "text/x-python",
   "name": "python",
   "nbconvert_exporter": "python",
   "pygments_lexer": "ipython3",
   "version": "3.8.3-final"
  },
  "orig_nbformat": 2,
  "kernelspec": {
   "name": "python3",
   "display_name": "Python 3"
  }
 },
 "nbformat": 4,
 "nbformat_minor": 2,
 "cells": [
  {
   "source": [
    "# Strängar Python \n",
    "\n",
    "* indexeringsoperator \n",
    "* skivopirator \n",
    "* konkatenering \n",
    "* escape-sekvens \n"
   ],
   "cell_type": "markdown",
   "metadata": {}
  },
  {
   "cell_type": "code",
   "execution_count": 9,
   "metadata": {},
   "outputs": [
    {
     "output_type": "stream",
     "name": "stdout",
     "text": [
      "Namn: \tOlivia  Andersson\nÅlder: \t17\nTelefon:9192\n"
     ]
    }
   ],
   "source": [
    "förnamn = \"Olivia\"\n",
    "efternamn = \"Andersson\"\n",
    "ålder = \"17\"\n",
    "telefon = 9192\n",
    "\n",
    "# konkatenering \n",
    "namn = förnamn +\"  \" + efternamn \n",
    "person = \"Namn: \\t\" + namn +\"\\n\" + \"Ålder: \\t\" + ålder + \"\\nTelefon:\" + str(telefon)\n",
    "\n",
    "print(person)"
   ]
  },
  {
   "cell_type": "code",
   "execution_count": 14,
   "metadata": {},
   "outputs": [
    {
     "output_type": "stream",
     "name": "stdout",
     "text": [
      "Antalet bokstäver i alfabetet är: 29\nBokstav på index 0: a\nBokstav på index 8: i\nBokstav på index -2: ä\nBokstav baklänges: öäåzyxwvutsrqponmlkjihgfedcba\n"
     ]
    }
   ],
   "source": [
    "alfabet = \"abcdefghijklmnopqrstuvwxyzåäö\"\n",
    "antal_bokstäver = len(alfabet)\n",
    "\n",
    "print(f\"Antalet bokstäver i alfabetet är: {antal_bokstäver}\")\n",
    "print(f\"Bokstav på index 0: {alfabet[0]}\")\n",
    "print(f\"Bokstav på index 8: {alfabet[8]}\")\n",
    "print(f\"Bokstav på index -2: {alfabet[-2]}\")\n",
    "print(f\"Bokstav baklänges: {alfabet[::-1]}\")"
   ]
  },
  {
   "source": [
    "# split()"
   ],
   "cell_type": "markdown",
   "metadata": {}
  },
  {
   "cell_type": "code",
   "execution_count": 20,
   "metadata": {},
   "outputs": [
    {
     "output_type": "stream",
     "name": "stdout",
     "text": [
      "Matte, Engelska, Programmering, Webb\n['Matte', 'Engelska', 'Programmering', 'Webb']\nJag gillar Matte\nJag gillar Engelska\nJag gillar Programmering\nJag gillar Webb\n"
     ]
    }
   ],
   "source": [
    "favoritämnen = \"Matte, Engelska, Programmering, Webb\"\n",
    "\n",
    "print(favoritämnen)\n",
    "\n",
    "ämnen_lista = favoritämnen.split(\", \")\n",
    "\n",
    "print(ämnen_lista)\n",
    "ämnen_lista[2]\n",
    "\n",
    "for ämne in ämnen_lista:\n",
    "    print(f\"Jag gillar {ämne}\")\n",
    "\n"
   ]
  },
  {
   "source": [
    "# Uppgifter "
   ],
   "cell_type": "markdown",
   "metadata": {}
  },
  {
   "cell_type": "code",
   "execution_count": null,
   "metadata": {},
   "outputs": [],
   "source": []
  }
 ]
}