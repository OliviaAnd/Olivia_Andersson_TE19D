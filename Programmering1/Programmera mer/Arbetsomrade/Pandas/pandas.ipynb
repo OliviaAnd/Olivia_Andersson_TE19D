{
 "cells": [
  {
   "cell_type": "code",
   "execution_count": 22,
   "metadata": {},
   "outputs": [
    {
     "name": "stdout",
     "output_type": "stream",
     "text": [
      "2706467\n"
     ]
    }
   ],
   "source": [
    "# 1a \r\n",
    "\r\n",
    "import pandas as pd\r\n",
    "import numpy as np \r\n",
    "\r\n",
    "df = pd.read_csv(\"sysselsattning.csv\", header = 2)\r\n",
    "\r\n",
    "df = df[df[\"sysselsättning\"]== \"förvärvsarbetande\"]\r\n",
    "\r\n",
    "totaltarbetande = df[\"2019\"].sum()\r\n",
    "\r\n",
    "print(totaltarbetande)\r\n"
   ]
  },
  {
   "cell_type": "code",
   "execution_count": 21,
   "metadata": {},
   "outputs": [
    {
     "name": "stdout",
     "output_type": "stream",
     "text": [
      "1070645\n"
     ]
    }
   ],
   "source": [
    "# 1b \r\n",
    "\r\n",
    "import pandas as pd\r\n",
    "import numpy as np \r\n",
    "\r\n",
    "df = pd.read_csv(\"sysselsattning.csv\", header = 2)\r\n",
    "\r\n",
    "df = df[df[\"sysselsättning\"]== \"ej förvärvsarbetande\"]\r\n",
    "\r\n",
    "totaltejarbetande = df[\"2019\"].sum()\r\n",
    "\r\n",
    "print(totaltejarbetande)"
   ]
  },
  {
   "cell_type": "code",
   "execution_count": 23,
   "metadata": {},
   "outputs": [
    {
     "data": {
      "image/png": "[encoded data removed]",
      "text/plain": "<Figure size 432x288 with 1 Axes>"
     },
     "metadata": {},
     "output_type": "display_data"
    }
   ],
   "source": [
    "import pandas as pd\r\n",
    "import numpy as np\r\n",
    "import matplotlib.pyplot as plt \r\n",
    "\r\n",
    "data = [totaltarbetande, totaltejarbetande]\r\n",
    "labels = 'arbetande', 'ej arbetande'\r\n",
    "plt.pie(data, labels=labels, autopct = '%1.1f%%')\r\n",
    "plt.title('2019')\r\n",
    "plt.axis('equal')\r\n",
    "plt.show()"
   ]
  }
 ],
 "metadata": {
  "kernelspec": {
   "display_name": "Python 3.8.3 64-bit ('base': conda)",
   "name": "python383jvsc74a57bd08a3d488cac65b56a3edc1258887eb65598ac25f856c1a45e26dcf824e9c3ee23"
  },
  "language_info": {
   "codemirror_mode": {
    "name": "ipython",
    "version": 3
   },
   "file_extension": ".py",
   "mimetype": "text/x-python",
   "name": "python",
   "nbconvert_exporter": "python",
   "pygments_lexer": "ipython3",
   "version": "3.8.3"
  },
  "orig_nbformat": 2
 },
 "nbformat": 4,
 "nbformat_minor": 2
}