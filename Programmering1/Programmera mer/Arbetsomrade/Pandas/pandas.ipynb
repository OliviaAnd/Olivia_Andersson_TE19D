{
 "cells": [
  {
   "cell_type": "code",
   "execution_count": 14,
   "metadata": {},
   "outputs": [
    {
     "data": {
      "text/html": "<div>\n<style scoped>\n    .dataframe tbody tr th:only-of-type {\n        vertical-align: middle;\n    }\n\n    .dataframe tbody tr th {\n        vertical-align: top;\n    }\n\n    .dataframe thead th {\n        text-align: right;\n    }\n</style>\n<table border=\"1\" class=\"dataframe\">\n  <thead>\n    <tr style=\"text-align: right;\">\n      <th></th>\n      <th>Befolkningen 16+ år efter sysselsättning, ålder, kön och år</th>\n      <th>Unnamed: 1</th>\n      <th>Unnamed: 2</th>\n      <th>Unnamed: 3</th>\n    </tr>\n  </thead>\n  <tbody>\n    <tr>\n      <th>0</th>\n      <td>NaN</td>\n      <td>NaN</td>\n      <td>NaN</td>\n      <td>NaN</td>\n    </tr>\n    <tr>\n      <th>1</th>\n      <td>sysselsättning</td>\n      <td>ålder</td>\n      <td>kön</td>\n      <td>2019.0</td>\n    </tr>\n    <tr>\n      <th>2</th>\n      <td>förvärvsarbetande</td>\n      <td>16-19 år</td>\n      <td>män</td>\n      <td>58826.0</td>\n    </tr>\n    <tr>\n      <th>3</th>\n      <td>förvärvsarbetande</td>\n      <td>16-19 år</td>\n      <td>kvinnor</td>\n      <td>72847.0</td>\n    </tr>\n    <tr>\n      <th>4</th>\n      <td>förvärvsarbetande</td>\n      <td>20-24 år</td>\n      <td>män</td>\n      <td>192696.0</td>\n    </tr>\n    <tr>\n      <th>5</th>\n      <td>förvärvsarbetande</td>\n      <td>20-24 år</td>\n      <td>kvinnor</td>\n      <td>174074.0</td>\n    </tr>\n    <tr>\n      <th>6</th>\n      <td>förvärvsarbetande</td>\n      <td>25-29 år</td>\n      <td>män</td>\n      <td>293352.0</td>\n    </tr>\n    <tr>\n      <th>7</th>\n      <td>förvärvsarbetande</td>\n      <td>25-29 år</td>\n      <td>kvinnor</td>\n      <td>268587.0</td>\n    </tr>\n    <tr>\n      <th>8</th>\n      <td>förvärvsarbetande</td>\n      <td>30-34 år</td>\n      <td>män</td>\n      <td>303019.0</td>\n    </tr>\n    <tr>\n      <th>9</th>\n      <td>förvärvsarbetande</td>\n      <td>30-34 år</td>\n      <td>kvinnor</td>\n      <td>271975.0</td>\n    </tr>\n    <tr>\n      <th>10</th>\n      <td>förvärvsarbetande</td>\n      <td>35-39 år</td>\n      <td>män</td>\n      <td>280522.0</td>\n    </tr>\n    <tr>\n      <th>11</th>\n      <td>förvärvsarbetande</td>\n      <td>35-39 år</td>\n      <td>kvinnor</td>\n      <td>255391.0</td>\n    </tr>\n    <tr>\n      <th>12</th>\n      <td>förvärvsarbetande</td>\n      <td>40-44 år</td>\n      <td>män</td>\n      <td>275085.0</td>\n    </tr>\n    <tr>\n      <th>13</th>\n      <td>förvärvsarbetande</td>\n      <td>40-44 år</td>\n      <td>kvinnor</td>\n      <td>260093.0</td>\n    </tr>\n    <tr>\n      <th>14</th>\n      <td>ej förvärvsarbetande</td>\n      <td>16-19 år</td>\n      <td>män</td>\n      <td>176860.0</td>\n    </tr>\n    <tr>\n      <th>15</th>\n      <td>ej förvärvsarbetande</td>\n      <td>16-19 år</td>\n      <td>kvinnor</td>\n      <td>143432.0</td>\n    </tr>\n    <tr>\n      <th>16</th>\n      <td>ej förvärvsarbetande</td>\n      <td>20-24 år</td>\n      <td>män</td>\n      <td>117928.0</td>\n    </tr>\n    <tr>\n      <th>17</th>\n      <td>ej förvärvsarbetande</td>\n      <td>20-24 år</td>\n      <td>kvinnor</td>\n      <td>103001.0</td>\n    </tr>\n    <tr>\n      <th>18</th>\n      <td>ej förvärvsarbetande</td>\n      <td>25-29 år</td>\n      <td>män</td>\n      <td>86633.0</td>\n    </tr>\n    <tr>\n      <th>19</th>\n      <td>ej förvärvsarbetande</td>\n      <td>25-29 år</td>\n      <td>kvinnor</td>\n      <td>91124.0</td>\n    </tr>\n    <tr>\n      <th>20</th>\n      <td>ej förvärvsarbetande</td>\n      <td>30-34 år</td>\n      <td>män</td>\n      <td>64162.0</td>\n    </tr>\n    <tr>\n      <th>21</th>\n      <td>ej förvärvsarbetande</td>\n      <td>30-34 år</td>\n      <td>kvinnor</td>\n      <td>76735.0</td>\n    </tr>\n    <tr>\n      <th>22</th>\n      <td>ej förvärvsarbetande</td>\n      <td>35-39 år</td>\n      <td>män</td>\n      <td>53373.0</td>\n    </tr>\n    <tr>\n      <th>23</th>\n      <td>ej förvärvsarbetande</td>\n      <td>35-39 år</td>\n      <td>kvinnor</td>\n      <td>61312.0</td>\n    </tr>\n    <tr>\n      <th>24</th>\n      <td>ej förvärvsarbetande</td>\n      <td>40-44 år</td>\n      <td>män</td>\n      <td>46857.0</td>\n    </tr>\n    <tr>\n      <th>25</th>\n      <td>ej förvärvsarbetande</td>\n      <td>40-44 år</td>\n      <td>kvinnor</td>\n      <td>49228.0</td>\n    </tr>\n  </tbody>\n</table>\n</div>",
      "text/plain": "   Befolkningen 16+ år efter sysselsättning, ålder, kön och år Unnamed: 1  \\\n0                                                 NaN                 NaN   \n1                                      sysselsättning               ålder   \n2                                   förvärvsarbetande            16-19 år   \n3                                   förvärvsarbetande            16-19 år   \n4                                   förvärvsarbetande            20-24 år   \n5                                   förvärvsarbetande            20-24 år   \n6                                   förvärvsarbetande            25-29 år   \n7                                   förvärvsarbetande            25-29 år   \n8                                   förvärvsarbetande            30-34 år   \n9                                   förvärvsarbetande            30-34 år   \n10                                  förvärvsarbetande            35-39 år   \n11                                  förvärvsarbetande            35-39 år   \n12                                  förvärvsarbetande            40-44 år   \n13                                  förvärvsarbetande            40-44 år   \n14                               ej förvärvsarbetande            16-19 år   \n15                               ej förvärvsarbetande            16-19 år   \n16                               ej förvärvsarbetande            20-24 år   \n17                               ej förvärvsarbetande            20-24 år   \n18                               ej förvärvsarbetande            25-29 år   \n19                               ej förvärvsarbetande            25-29 år   \n20                               ej förvärvsarbetande            30-34 år   \n21                               ej förvärvsarbetande            30-34 år   \n22                               ej förvärvsarbetande            35-39 år   \n23                               ej förvärvsarbetande            35-39 år   \n24                               ej förvärvsarbetande            40-44 år   \n25                               ej förvärvsarbetande            40-44 år   \n\n   Unnamed: 2  Unnamed: 3  \n0         NaN         NaN  \n1         kön      2019.0  \n2         män     58826.0  \n3     kvinnor     72847.0  \n4         män    192696.0  \n5     kvinnor    174074.0  \n6         män    293352.0  \n7     kvinnor    268587.0  \n8         män    303019.0  \n9     kvinnor    271975.0  \n10        män    280522.0  \n11    kvinnor    255391.0  \n12        män    275085.0  \n13    kvinnor    260093.0  \n14        män    176860.0  \n15    kvinnor    143432.0  \n16        män    117928.0  \n17    kvinnor    103001.0  \n18        män     86633.0  \n19    kvinnor     91124.0  \n20        män     64162.0  \n21    kvinnor     76735.0  \n22        män     53373.0  \n23    kvinnor     61312.0  \n24        män     46857.0  \n25    kvinnor     49228.0  "
     },
     "execution_count": 14,
     "metadata": {},
     "output_type": "execute_result"
    }
   ],
   "source": [
    "import pandas as pd\r\n",
    "import numpy as np \r\n",
    "\r\n",
    "df = pd.read_csv(\"sysselsattning.csv\")\r\n",
    "\r\n",
    "df\r\n",
    "\r\n"
   ]
  }
 ],
 "metadata": {
  "kernelspec": {
   "display_name": "Python 3.8.3 64-bit ('base': conda)",
   "name": "python383jvsc74a57bd08a3d488cac65b56a3edc1258887eb65598ac25f856c1a45e26dcf824e9c3ee23"
  },
  "language_info": {
   "codemirror_mode": {
    "name": "ipython",
    "version": 3
   },
   "file_extension": ".py",
   "mimetype": "text/x-python",
   "name": "python",
   "nbconvert_exporter": "python",
   "pygments_lexer": "ipython3",
   "version": "3.8.3"
  },
  "orig_nbformat": 2
 },
 "nbformat": 4,
 "nbformat_minor": 2
}