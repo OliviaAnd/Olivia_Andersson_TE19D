{
 "cells": [
  {
   "cell_type": "code",
   "execution_count": 5,
   "metadata": {},
   "outputs": [
    {
     "name": "stdout",
     "output_type": "stream",
     "text": [
      "Array: [1 2 3 4]\n",
      "Lista: [1, 2, 3, 4]\n",
      "3\n",
      "[2 4 6 8]\n",
      "[1, 2, 3, 4, 1, 2, 3, 4]\n",
      "[ 1  4  9 16]\n"
     ]
    }
   ],
   "source": [
    "import numpy as np\r\n",
    "\r\n",
    "array1 = np.array([1,2,3,4])\r\n",
    "\r\n",
    "lista1 = [1,2,3,4]\r\n",
    "\r\n",
    "print(f\"Array: {array1}\")\r\n",
    "print(f\"Lista: {lista1}\")\r\n",
    "\r\n",
    "# indexera arrays, fungerar på samma sätt som att indexera listor []\r\n",
    "print(array1[2])\r\n",
    "\r\n",
    "# multiplicera alla tal med 2\r\n",
    "array2 = array1*2\r\n",
    "print(array2)\r\n",
    "\r\n",
    "lista2 = lista1*2\r\n",
    "print(lista2)\r\n",
    "\r\n",
    "kvadrater = array1**2\r\n",
    "print(kvadrater)"
   ]
  },
  {
   "cell_type": "code",
   "execution_count": 12,
   "metadata": {},
   "outputs": [
    {
     "name": "stdout",
     "output_type": "stream",
     "text": [
      "[ 0  1  2  3  4  5  6  7  8  9 10]\n",
      "[-10  -9  -8  -7  -6  -5  -4  -3  -2  -1   0   1   2   3   4   5   6   7\n",
      "   8   9  10]\n"
     ]
    }
   ],
   "source": [
    "# 1\r\n",
    "\r\n",
    "import numpy as np \r\n",
    "\r\n",
    "tal = np.arange(11)\r\n",
    "\r\n",
    "print(tal)\r\n",
    "\r\n",
    "tal1 = np.arange(-10,11)\r\n",
    "\r\n",
    "print(tal1)"
   ]
  },
  {
   "cell_type": "code",
   "execution_count": null,
   "metadata": {},
   "outputs": [],
   "source": [
    "# 2\r\n",
    "\r\n",
    "import numpy as np \r\n",
    "\r\n",
    "array = np.array(10, 20, 30, 40, 50, 60, 70, 80, 90, 100)\r\n",
    "\r\n",
    "array1= array*10\r\n",
    "\r\n",
    "print()"
   ]
  }
 ],
 "metadata": {
  "kernelspec": {
   "display_name": "Python 3.8.3 64-bit (conda)",
   "metadata": {
    "interpreter": {
     "hash": "8a3d488cac65b56a3edc1258887eb65598ac25f856c1a45e26dcf824e9c3ee23"
    }
   },
   "name": "python3"
  },
  "language_info": {
   "codemirror_mode": {
    "name": "ipython",
    "version": 3
   },
   "file_extension": ".py",
   "mimetype": "text/x-python",
   "name": "python",
   "nbconvert_exporter": "python",
   "pygments_lexer": "ipython3",
   "version": "3.8.3"
  },
  "orig_nbformat": 2
 },
 "nbformat": 4,
 "nbformat_minor": 2
}