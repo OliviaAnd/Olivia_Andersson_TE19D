{
 "cells": [
  {
   "cell_type": "code",
   "execution_count": 15,
   "metadata": {},
   "outputs": [
    {
     "name": "stdout",
     "output_type": "stream",
     "text": [
      "1 6 4 4 6 6 2 6 1 1 "
     ]
    }
   ],
   "source": [
    "# Uppgift 1a\r\n",
    "\r\n",
    "import random as rnd \r\n",
    "\r\n",
    "\r\n",
    "with open(\"diceRoll.txt\", \"w\") as f2:\r\n",
    "    for i in range (0,10):\r\n",
    "        tärning = str(rnd.randint (1,6))\r\n",
    "        print(tärning, end = \" \")\r\n",
    "        f2.write(f\"{tärning} \")"
   ]
  },
  {
   "cell_type": "code",
   "execution_count": 36,
   "metadata": {},
   "outputs": [
    {
     "name": "stdout",
     "output_type": "stream",
     "text": [
      "[2, 4, 3, 4, 3, 3, 4, 1, 1, 4]\n",
      "[1, 1, 2, 3, 3, 3, 4, 4, 4, 4]\n",
      "Antalet femmor: 0\n"
     ]
    }
   ],
   "source": [
    "#Uppgift 1\r\n",
    "\r\n",
    "\r\n",
    "import random as rnd \r\n",
    "\r\n",
    "tärningskast = []\r\n",
    "sorterad = []\r\n",
    "fem = 0\r\n",
    "\r\n",
    "with open(\"diceRoll.txt\", \"w\") as f2:\r\n",
    "    for i in range (0,10):\r\n",
    "        tärning = (rnd.randint (1,6))\r\n",
    "        tärningskast.append(tärning)\r\n",
    "        sorterad = sorted(tärningskast)\r\n",
    "        if tärningskast == 5:\r\n",
    "            fem += 1\r\n",
    "    f2.write(f\"{tärning} \")\r\n",
    "    f2.write(f\"{sorterad} \")\r\n",
    "    print(tärningskast)\r\n",
    "    print(sorterad)\r\n",
    "    print(f\"Antalet femmor: {fem}\")\r\n",
    "    "
   ]
  },
  {
   "cell_type": "code",
   "execution_count": 8,
   "metadata": {},
   "outputs": [
    {
     "name": "stdout",
     "output_type": "stream",
     "text": [
      "['Adam Gustafsson 25', 'BjÃ¶rn BjÃ¶rnsson 39', 'Bose Bosseson 32', 'Ella Ester 41', 'Emil Johansson 23', 'Emma Boden 32', 'Erik Eriksson 31', 'Fredrika Ulven 10', 'Gore Bord 55', 'Hanna Karlsson 23 ', 'HÃ¥kan HÃ¥kanson 24', 'Ida HÃ¥kansson 23', 'Jakob Kallander 65', 'Johan Johansson 42', 'Jonas Jonasson 31', 'Karl Karlsson 32', 'Ove Karlsten 41', 'Sven Erik Karlsson 13', 'Sven Erik Lundin 39']\n"
     ]
    }
   ],
   "source": [
    "#Uppgift 2\r\n",
    "\r\n",
    "sorterad = []\r\n",
    "\r\n",
    "with open (\"Provresultat.txt\", \"r+\") as f1:\r\n",
    "    for rad in f1:\r\n",
    "        rad = rad.strip(\"\\n\")\r\n",
    "        sorterad.append(rad)\r\n",
    "    sorterad.sort()\r\n",
    "    print(sorterad)"
   ]
  }
 ],
 "metadata": {
  "kernelspec": {
   "display_name": "Python 3.8.3 64-bit (conda)",
   "metadata": {
    "interpreter": {
     "hash": "8a3d488cac65b56a3edc1258887eb65598ac25f856c1a45e26dcf824e9c3ee23"
    }
   },
   "name": "python3"
  },
  "language_info": {
   "codemirror_mode": {
    "name": "ipython",
    "version": 3
   },
   "file_extension": ".py",
   "mimetype": "text/x-python",
   "name": "python",
   "nbconvert_exporter": "python",
   "pygments_lexer": "ipython3",
   "version": "3.8.3"
  },
  "orig_nbformat": 2
 },
 "nbformat": 4,
 "nbformat_minor": 2
}