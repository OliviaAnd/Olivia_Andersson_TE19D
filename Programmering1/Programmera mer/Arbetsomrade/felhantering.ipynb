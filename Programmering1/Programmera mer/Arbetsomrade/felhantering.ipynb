{
 "metadata": {
  "language_info": {
   "codemirror_mode": {
    "name": "ipython",
    "version": 3
   },
   "file_extension": ".py",
   "mimetype": "text/x-python",
   "name": "python",
   "nbconvert_exporter": "python",
   "pygments_lexer": "ipython3",
   "version": "3.8.3-final"
  },
  "orig_nbformat": 2,
  "kernelspec": {
   "name": "python3",
   "display_name": "Python 3",
   "language": "python"
  }
 },
 "nbformat": 4,
 "nbformat_minor": 2,
 "cells": [
  {
   "cell_type": "code",
   "execution_count": 2,
   "metadata": {},
   "outputs": [
    {
     "output_type": "stream",
     "name": "stdout",
     "text": [
      "1.0\n"
     ]
    }
   ],
   "source": [
    "# Uppgift 1\n",
    "\n",
    "import numpy as np # saknas ett t i import\n",
    "\n",
    "def distance(p1,p2):\n",
    "    return np.sqrt(p1+p2) #saknas ett t i return \n",
    "\n",
    "print(distance(0.5,0.5)) #det ska inte vara några brackets "
   ]
  },
  {
   "cell_type": "code",
   "execution_count": 6,
   "metadata": {},
   "outputs": [
    {
     "output_type": "stream",
     "name": "stdout",
     "text": [
      "100 är fyrsiffrigt\n231 är fyrsiffrigt\n10000 är inte fyrsiffrigt\n10001 är inte fyrsiffrigt\n-1000 är fyrsiffrigt\n102313 är inte fyrsiffrigt\n"
     ]
    }
   ],
   "source": [
    "#Uppgift 2\n",
    "\n",
    "def ar_fyrsirigt(tal):   #Stavfel där nere, därav stavfel här eftersom det är samma variabel\n",
    "    if tal/1000 < 10 :   #bara ett slash\n",
    "        return True \n",
    "    else:\n",
    "        return False \n",
    "\n",
    "#testprogram \n",
    "testtal = [100, 231, 10000, 10001, -1000, 102313]\n",
    "\n",
    "for t in testtal:\n",
    "    if ar_fyrsirigt(t):    \n",
    "        print(f\"{t} är fyrsiffrigt\")\n",
    "    else:\n",
    "        print(f\"{t} är inte fyrsiffrigt\")"
   ]
  },
  {
   "cell_type": "code",
   "execution_count": 4,
   "metadata": {},
   "outputs": [
    {
     "output_type": "stream",
     "name": "stdout",
     "text": [
      "Du borde skaffa ett månadskort\n"
     ]
    }
   ],
   "source": [
    "#Uppgift 3 \n",
    "\n",
    "engång = 34\n",
    "månad = 795 \n",
    "\n",
    "while True:\n",
    "    try:\n",
    "        turer = int(input(\"Hur många gånger ska du åka spårvagn?\"))\n",
    "        assert turer >= 0, \"Kan inte vara under 0\" #assertionterror, turer kan inte vara mindre än 0\n",
    "        break # hoppar ur while-loopen \n",
    "    except AssertionError as msg:\n",
    "        print(msg)\n",
    "    except:\n",
    "        print(\"Det måste vara ett heltal\")\n",
    "\n",
    "if turer*engång >= månad: \n",
    "    print(\"Du borde skaffa ett månadskort\")\n",
    "else:\n",
    "    print(\"Engångsbiljetter är mer kostsamt\")\n",
    "\n"
   ]
  },
  {
   "cell_type": "code",
   "execution_count": null,
   "metadata": {},
   "outputs": [],
   "source": []
  }
 ]
}